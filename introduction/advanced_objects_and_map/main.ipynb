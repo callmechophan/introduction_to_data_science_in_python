{
 "cells": [
  {
   "cell_type": "markdown",
   "metadata": {},
   "source": [
    "class"
   ]
  },
  {
   "cell_type": "code",
   "execution_count": null,
   "metadata": {},
   "outputs": [],
   "source": [
    "class person:\n",
    "    department = \"School of Information\"\n",
    "    \n",
    "    def set_name(self, new_name):\n",
    "        self.name = new_name\n",
    "\n",
    "    def set_location(self, new_location):\n",
    "        self.location = new_location"
   ]
  },
  {
   "cell_type": "code",
   "execution_count": null,
   "metadata": {},
   "outputs": [],
   "source": [
    "p = person() # p is an object of class person\n",
    "p.set_name(\"Christopher Brooks\")\n",
    "p.set_location(\"Ann Arbor, MI, USA\")\n",
    "print(\"{} live in {} and works in the department {}\".format(p.name, p.location, p.department))"
   ]
  },
  {
   "cell_type": "markdown",
   "metadata": {},
   "source": [
    "`map()`\n",
    "- is a basis for functional programming\n",
    "- return a map object\n",
    "- commonly used when dealing with big data\n",
    "- allow us to have very efficient memory management"
   ]
  },
  {
   "cell_type": "code",
   "execution_count": null,
   "metadata": {},
   "outputs": [],
   "source": [
    "store1 = [10.00, 11.05, 12.34, 2.34]\n",
    "store2 = [10.50, 11.00, 12.60, 2.11]"
   ]
  },
  {
   "cell_type": "code",
   "execution_count": null,
   "metadata": {},
   "outputs": [],
   "source": [
    "# compare values in two iterable\n",
    "cheapest = map(min, store1, store2)"
   ]
  },
  {
   "cell_type": "code",
   "execution_count": null,
   "metadata": {},
   "outputs": [],
   "source": [
    "for c in cheapest:\n",
    "    print(c)"
   ]
  },
  {
   "cell_type": "markdown",
   "metadata": {},
   "source": [
    "**problem**\n",
    "- write function get a first name and last name\n",
    "- return a dictionary (or string is full_name)"
   ]
  },
  {
   "cell_type": "code",
   "execution_count": null,
   "metadata": {},
   "outputs": [],
   "source": [
    "people = ['Dr. Christopher Brooks', 'Dr. Kevyn Collins-Thompson', 'Dr. VG Vinod Vydiswaran', 'Dr. Daniel Romero']"
   ]
  },
  {
   "cell_type": "code",
   "execution_count": null,
   "metadata": {},
   "outputs": [],
   "source": [
    "def split_title_and_name(person: str):\n",
    "    # using split() with str, it will return a list\n",
    "    # EX:\n",
    "    # - 'Dr. VG Vinod Vydiswaran'\n",
    "    # - ['Dr.', 'VG', 'Vinod', 'Vydiswaran']\n",
    "    first_name = person.split()[0] # get the first element\n",
    "    last_name = person.split()[-1] # get the last element\n",
    "\n",
    "    return {\"first_name\": first_name, \"last_name\": last_name} # return first name and last name inside dictionary\n",
    "    # return \"{} {}\".format(first_name, last_name)"
   ]
  },
  {
   "cell_type": "code",
   "execution_count": null,
   "metadata": {},
   "outputs": [],
   "source": [
    "list(map(split_title_and_name, people))"
   ]
  }
 ],
 "metadata": {
  "kernelspec": {
   "display_name": "Python 3 (ipykernel)",
   "language": "python",
   "name": "python3"
  },
  "language_info": {
   "codemirror_mode": {
    "name": "ipython",
    "version": 3
   },
   "file_extension": ".py",
   "mimetype": "text/x-python",
   "name": "python",
   "nbconvert_exporter": "python",
   "pygments_lexer": "ipython3",
   "version": "3.10.10"
  }
 },
 "nbformat": 4,
 "nbformat_minor": 4
}
