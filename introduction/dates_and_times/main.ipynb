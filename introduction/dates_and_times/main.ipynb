{
 "cells": [
  {
   "cell_type": "code",
   "execution_count": null,
   "id": "ed721150-1d76-47ed-b92e-52cee4fe4f2d",
   "metadata": {},
   "outputs": [],
   "source": [
    "import datetime as dt\n",
    "import time as tm"
   ]
  },
  {
   "cell_type": "code",
   "execution_count": null,
   "id": "87b7a86f-176d-494e-b8a1-38223d5c1042",
   "metadata": {},
   "outputs": [],
   "source": [
    "tm.time()"
   ]
  },
  {
   "cell_type": "code",
   "execution_count": null,
   "id": "bf5f8a2d-9875-4078-a818-1a58e3acc4c6",
   "metadata": {},
   "outputs": [],
   "source": [
    "dt.datetime.fromtimestamp(tm.time())"
   ]
  },
  {
   "cell_type": "code",
   "execution_count": null,
   "id": "de247e9e-95c0-467d-b5a5-145102963f4b",
   "metadata": {},
   "outputs": [],
   "source": [
    "current = dt.datetime.now() # get now\n",
    "str(current) # convert to str"
   ]
  },
  {
   "cell_type": "code",
   "execution_count": null,
   "id": "f794f248-e909-4386-9f40-fc014238b22b",
   "metadata": {},
   "outputs": [],
   "source": [
    "print(current.date())\n",
    "print(current.time())"
   ]
  },
  {
   "cell_type": "code",
   "execution_count": null,
   "id": "a5afc219-ab9d-47c7-ab2a-0677c79e7427",
   "metadata": {},
   "outputs": [],
   "source": [
    "current.year, current.month, current.day, current.hour, current.minute, current.second"
   ]
  },
  {
   "cell_type": "code",
   "execution_count": null,
   "id": "d94bbd21-926f-4dcc-beab-437cc54711ab",
   "metadata": {},
   "outputs": [],
   "source": [
    "days_100 = dt.timedelta(days = 100)\n",
    "days_100"
   ]
  },
  {
   "cell_type": "code",
   "execution_count": null,
   "id": "e91f1b4c-0722-4aa2-b410-a3ddcfd3a5b9",
   "metadata": {},
   "outputs": [],
   "source": [
    "days_100_ago = current - days_100 # date sub\n",
    "days_100_ago"
   ]
  }
 ],
 "metadata": {
  "kernelspec": {
   "display_name": "Python 3 (ipykernel)",
   "language": "python",
   "name": "python3"
  },
  "language_info": {
   "codemirror_mode": {
    "name": "ipython",
    "version": 3
   },
   "file_extension": ".py",
   "mimetype": "text/x-python",
   "name": "python",
   "nbconvert_exporter": "python",
   "pygments_lexer": "ipython3",
   "version": "3.10.10"
  }
 },
 "nbformat": 4,
 "nbformat_minor": 5
}
