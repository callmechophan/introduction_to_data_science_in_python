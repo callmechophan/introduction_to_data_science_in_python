{
 "cells": [
  {
   "cell_type": "code",
   "execution_count": null,
   "id": "228525cb-4085-4f4c-919e-938c1c98bcd9",
   "metadata": {},
   "outputs": [],
   "source": [
    "import csv"
   ]
  },
  {
   "cell_type": "code",
   "execution_count": null,
   "id": "70559a18-fc54-480d-ab4f-840d332ead3b",
   "metadata": {},
   "outputs": [],
   "source": [
    "# set the floating point precision for printing to 2 (not need using round)\n",
    "%precision 2"
   ]
  },
  {
   "cell_type": "code",
   "execution_count": null,
   "id": "c8f06313-6757-45f5-af5f-0b923c1436e7",
   "metadata": {},
   "outputs": [],
   "source": [
    "with open(\"mpg.csv\", \"r\") as f:\n",
    "    mpg = list(csv.DictReader(f))"
   ]
  },
  {
   "cell_type": "code",
   "execution_count": null,
   "id": "45bd2c0f-bdf9-4c32-afca-4c064cf84056",
   "metadata": {},
   "outputs": [],
   "source": [
    "mpg[:2]"
   ]
  },
  {
   "cell_type": "code",
   "execution_count": null,
   "id": "8529c687-978e-4db3-a89d-a77b5d82c3bf",
   "metadata": {},
   "outputs": [],
   "source": [
    "len(mpg)"
   ]
  },
  {
   "cell_type": "code",
   "execution_count": null,
   "id": "71555cab-eba0-4911-9aca-a6bbb97872fd",
   "metadata": {},
   "outputs": [],
   "source": [
    "mpg[0].keys()"
   ]
  },
  {
   "cell_type": "code",
   "execution_count": null,
   "id": "e9911967-9270-4f36-941a-ec7d2b622a83",
   "metadata": {},
   "outputs": [],
   "source": [
    "mpg_cty = [float(d[\"cty\"]) for d in mpg]"
   ]
  },
  {
   "cell_type": "code",
   "execution_count": null,
   "id": "2e83b928-b48b-4614-95a3-c4323151d678",
   "metadata": {},
   "outputs": [],
   "source": [
    "sum(mpg_cty) / len(mpg)"
   ]
  },
  {
   "cell_type": "code",
   "execution_count": null,
   "id": "daee4d5c-8b78-45d4-b5f2-a9b8f4537ac8",
   "metadata": {},
   "outputs": [],
   "source": [
    "cylinders = set([w[\"cyl\"] for w in mpg])\n",
    "cylinders"
   ]
  },
  {
   "cell_type": "code",
   "execution_count": null,
   "id": "d065703b-493c-4916-aeb8-f0217dada19e",
   "metadata": {},
   "outputs": [],
   "source": [
    "mpg_cty_by_cyl = []\n",
    "for c in cylinders:\n",
    "    cty_by_cyl = [float(w[\"cty\"]) for w in mpg if w[\"cyl\"] == c]\n",
    "    avg = sum(cty_by_cyl) / len(cty_by_cyl)\n",
    "\n",
    "    mpg_cty_by_cyl.append((c, avg))"
   ]
  },
  {
   "cell_type": "code",
   "execution_count": null,
   "id": "b99f4d87-626d-43b4-96ff-708c1d9a0899",
   "metadata": {},
   "outputs": [],
   "source": [
    "mpg_cty_by_cyl.sort(key=lambda x: x[0])\n",
    "mpg_cty_by_cyl"
   ]
  }
 ],
 "metadata": {
  "kernelspec": {
   "display_name": "Python 3 (ipykernel)",
   "language": "python",
   "name": "python3"
  },
  "language_info": {
   "codemirror_mode": {
    "name": "ipython",
    "version": 3
   },
   "file_extension": ".py",
   "mimetype": "text/x-python",
   "name": "python",
   "nbconvert_exporter": "python",
   "pygments_lexer": "ipython3",
   "version": "3.10.10"
  }
 },
 "nbformat": 4,
 "nbformat_minor": 5
}
