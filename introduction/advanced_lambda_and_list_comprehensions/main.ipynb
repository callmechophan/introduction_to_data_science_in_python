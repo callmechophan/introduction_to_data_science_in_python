{
 "cells": [
  {
   "cell_type": "markdown",
   "id": "1edf1162-efa6-4069-9685-05b1600611f8",
   "metadata": {},
   "source": [
    "`lambda`\n",
    "- a way of creating anonymous functions\n",
    "- the same as other functions, but they have no name\n",
    "- the indent is that they're simple or short lived and it's easier just to write out the function in one line"
   ]
  },
  {
   "cell_type": "code",
   "execution_count": null,
   "id": "e497c560-dbc7-4e84-aaf0-f35326f18da4",
   "metadata": {},
   "outputs": [],
   "source": [
    "# define lambda function\n",
    "my_function = lambda a, b, c : a + b"
   ]
  },
  {
   "cell_type": "code",
   "execution_count": null,
   "id": "97c2ce60-9553-4f25-b3c4-3371d9090df8",
   "metadata": {},
   "outputs": [],
   "source": [
    "my_function(1, 2, 3)"
   ]
  },
  {
   "cell_type": "code",
   "execution_count": null,
   "id": "73cdac56-f691-4657-a454-036e25bc9801",
   "metadata": {},
   "outputs": [],
   "source": [
    "# simple lambda\n",
    "(lambda a, b, c : a + b)(1, 2, 3)"
   ]
  },
  {
   "cell_type": "markdown",
   "id": "55f85465",
   "metadata": {},
   "source": [
    "problem"
   ]
  },
  {
   "cell_type": "code",
   "execution_count": null,
   "id": "1a15ea1b-e58a-45fd-a89f-e8b07d2106cf",
   "metadata": {},
   "outputs": [],
   "source": [
    "people = ['Dr. Christopher Brooks', 'Dr. Kevyn Collins-Thompson', 'Dr. VG Vinod Vydiswaran', 'Dr. Daniel Romero']\n",
    "\n",
    "def split_title_and_name(person):\n",
    "    return person.split()[0] + ' ' + person.split()[-1]"
   ]
  },
  {
   "cell_type": "code",
   "execution_count": null,
   "id": "6157c2b8-5848-436c-ad65-38acbed22155",
   "metadata": {},
   "outputs": [],
   "source": [
    "# option 1: lambda\n",
    "for person in people:\n",
    "    print(split_title_and_name(person) == (lambda x : x.split()[0] + ' ' + x.split()[-1])(person))"
   ]
  },
  {
   "cell_type": "code",
   "execution_count": null,
   "id": "571b52ae-5fcc-4b6a-b733-e1ebc67d5ddb",
   "metadata": {},
   "outputs": [],
   "source": [
    "# option 2: map\n",
    "list(map(split_title_and_name, people)) == list(map(lambda x : x.split()[0] + ' ' + x.split()[-1], people))"
   ]
  },
  {
   "cell_type": "markdown",
   "id": "27e64ca3",
   "metadata": {},
   "source": [
    "comprehension"
   ]
  },
  {
   "cell_type": "code",
   "execution_count": null,
   "id": "96d3c568-2a9f-41c6-9238-c92f4fd0244f",
   "metadata": {},
   "outputs": [],
   "source": [
    "normal_lists = []\n",
    "for number in range(0, 1000):\n",
    "    if number % 2 == 0:\n",
    "        normal_lists.append(number)\n",
    "\n",
    "normal_lists"
   ]
  },
  {
   "cell_type": "code",
   "execution_count": null,
   "id": "b1ef5a40-f82c-4894-a2e0-472163e66d3b",
   "metadata": {},
   "outputs": [],
   "source": [
    "comprehension_list = [number for number in range(0, 1000) if number % 2 == 0]\n",
    "comprehension_list"
   ]
  },
  {
   "cell_type": "markdown",
   "id": "11238751",
   "metadata": {},
   "source": [
    "problem"
   ]
  },
  {
   "cell_type": "code",
   "execution_count": null,
   "id": "8d9e8307",
   "metadata": {},
   "outputs": [],
   "source": [
    "lst = []\n",
    "for i in range(10):\n",
    "    for j in range (10):\n",
    "        lst.append(i*j)\n",
    "lst"
   ]
  },
  {
   "cell_type": "code",
   "execution_count": null,
   "id": "c43ea3b9",
   "metadata": {},
   "outputs": [],
   "source": [
    "[i*j for i in range(10) for j in range(10)]"
   ]
  }
 ],
 "metadata": {
  "kernelspec": {
   "display_name": "Python 3 (ipykernel)",
   "language": "python",
   "name": "python3"
  },
  "language_info": {
   "codemirror_mode": {
    "name": "ipython",
    "version": 3
   },
   "file_extension": ".py",
   "mimetype": "text/x-python",
   "name": "python",
   "nbconvert_exporter": "python",
   "pygments_lexer": "ipython3",
   "version": "3.10.10"
  }
 },
 "nbformat": 4,
 "nbformat_minor": 5
}
