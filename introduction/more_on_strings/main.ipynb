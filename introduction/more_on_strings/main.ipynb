{
 "cells": [
  {
   "cell_type": "markdown",
   "id": "87c1a1fe-f1cd-4531-946f-06fa0eed94bb",
   "metadata": {},
   "source": [
    "- Unicode Transformation Format (UTF)\n",
    "- it can be used to represent over a million different characters\n",
    "- this include not only human languages, but symbols like emojis too"
   ]
  },
  {
   "cell_type": "code",
   "execution_count": null,
   "id": "5aff595e-3123-416b-bbe8-10eb3423edc3",
   "metadata": {},
   "outputs": [],
   "source": [
    "print('😊')"
   ]
  },
  {
   "cell_type": "markdown",
   "id": "38ec258e-a386-4a15-940c-99acc1be282e",
   "metadata": {},
   "source": [
    "`format` method"
   ]
  },
  {
   "cell_type": "code",
   "execution_count": null,
   "id": "c567704b-0110-4459-8c1a-ac00386a6ace",
   "metadata": {},
   "outputs": [],
   "source": [
    "\n",
    "sales_record = \\\n",
    "    {\n",
    "        \"price\": 3.24,\n",
    "        \"num_items\": 4,\n",
    "        \"person\": \"Chris\"\n",
    "    }\n",
    "\n",
    "sales_statement = \"{} bought {} item(s) at a price of {} each for a total of {}\" \\\n",
    "    .format(sales_record[\"person\"], sales_record[\"num_items\"], sales_record[\"price\"], sales_record[\"price\"]*sales_record[\"num_items\"])\n",
    "\n",
    "print(sales_statement)"
   ]
  }
 ],
 "metadata": {
  "kernelspec": {
   "display_name": "Python 3 (ipykernel)",
   "language": "python",
   "name": "python3"
  },
  "language_info": {
   "codemirror_mode": {
    "name": "ipython",
    "version": 3
   },
   "file_extension": ".py",
   "mimetype": "text/x-python",
   "name": "python",
   "nbconvert_exporter": "python",
   "pygments_lexer": "ipython3",
   "version": "3.10.10"
  }
 },
 "nbformat": 4,
 "nbformat_minor": 5
}
