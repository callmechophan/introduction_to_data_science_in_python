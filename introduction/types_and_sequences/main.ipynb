{
 "cells": [
  {
   "cell_type": "code",
   "execution_count": null,
   "id": "34a894bf-7f6f-4d08-9108-9cd4b1835ac2",
   "metadata": {},
   "outputs": [],
   "source": [
    "type(\"This is a string\")"
   ]
  },
  {
   "cell_type": "code",
   "execution_count": null,
   "id": "fd1d6a2f-f49f-4b53-b8cc-43bed8c9ce8f",
   "metadata": {},
   "outputs": [],
   "source": [
    "type(None)"
   ]
  },
  {
   "cell_type": "code",
   "execution_count": null,
   "id": "1e0ff6f6-e62a-42c6-8302-77fe6e6e5793",
   "metadata": {},
   "outputs": [],
   "source": [
    "type(1)"
   ]
  },
  {
   "cell_type": "code",
   "execution_count": null,
   "id": "45e7ef57-8910-4422-b8b8-1560d11cdbdb",
   "metadata": {},
   "outputs": [],
   "source": [
    "type(1.0)"
   ]
  },
  {
   "cell_type": "markdown",
   "id": "670e8897-f276-4559-910d-57fb0adbf017",
   "metadata": {},
   "source": [
    "- a tuple is a sequence of variables which itself is immutable\n",
    "- that means that a tuple has elements in an ordering, but cannot be changed once created\n",
    "- declare using the parenthese `()`\n",
    "- can mix types for the contents"
   ]
  },
  {
   "cell_type": "code",
   "execution_count": null,
   "id": "470c55df-9741-41c1-93ad-b76e1c89be62",
   "metadata": {},
   "outputs": [],
   "source": [
    "t = (1, 'a', 2, 'b')\n",
    "type(t)"
   ]
  },
  {
   "cell_type": "markdown",
   "id": "efdf8eb3-d659-48e1-94dc-7fd453db1663",
   "metadata": {},
   "source": [
    "- a list similar tuple, but it is mutable\n",
    "- that means that a list can change their length, number of element, and the element values\n",
    "- declare using the square brackets `[]`\n",
    "- `append` function allows add new items to the end of list\n",
    "- start `0`\n",
    "- end `length - 1`"
   ]
  },
  {
   "cell_type": "code",
   "execution_count": null,
   "id": "b7346ea4-90d4-42ca-98d4-b261af8aaf7d",
   "metadata": {},
   "outputs": [],
   "source": [
    "l = [1, 'a', 2, 'b']\n",
    "type(l)"
   ]
  },
  {
   "cell_type": "code",
   "execution_count": null,
   "id": "3d2ff778-553b-426b-bd4e-5a37448e22ac",
   "metadata": {},
   "outputs": [],
   "source": [
    "l.append(3.3)\n",
    "l"
   ]
  },
  {
   "cell_type": "code",
   "execution_count": null,
   "id": "b5babb22-4055-4532-8ead-aa3443f98f5c",
   "metadata": {},
   "outputs": [],
   "source": [
    "for item in l:\n",
    "    print(item)"
   ]
  },
  {
   "cell_type": "code",
   "execution_count": null,
   "id": "92455dd4-b71a-4f99-bff6-7be4cf4cbd40",
   "metadata": {},
   "outputs": [],
   "source": [
    "# concatenates lists using + (plus)\n",
    "[1, 2] + [3, 4]"
   ]
  },
  {
   "cell_type": "code",
   "execution_count": null,
   "id": "8318fa32-dbf0-472d-ae6f-8fbe438630eb",
   "metadata": {},
   "outputs": [],
   "source": [
    "# repeats the value of a list using * (asterisks)\n",
    "[1] * 3"
   ]
  },
  {
   "cell_type": "code",
   "execution_count": null,
   "id": "23d11fa0-0c7d-4070-8317-85a1d9afadeb",
   "metadata": {},
   "outputs": [],
   "source": [
    "# check member of a list, return boolean\n",
    "1 in [1, 2, 3]"
   ]
  },
  {
   "cell_type": "code",
   "execution_count": null,
   "id": "e80fd5cf-c2fc-4be3-a479-547950931c5b",
   "metadata": {},
   "outputs": [],
   "source": [
    "x = \"This is a string\""
   ]
  },
  {
   "cell_type": "code",
   "execution_count": null,
   "id": "4d238536-630b-4e68-a563-e839d71996b2",
   "metadata": {},
   "outputs": [],
   "source": [
    "# get the first element\n",
    "print(x[0])\n",
    "print(x[0:1])"
   ]
  },
  {
   "cell_type": "code",
   "execution_count": null,
   "id": "059a4f8c-cfb0-4d05-bb48-d02720d1d43c",
   "metadata": {},
   "outputs": [],
   "source": [
    "# get the last element\n",
    "print(x[-1])\n",
    "print(x[-1:])"
   ]
  },
  {
   "cell_type": "code",
   "execution_count": null,
   "id": "6f890f2c-1f00-4792-9351-c8d2f6c85a38",
   "metadata": {},
   "outputs": [],
   "source": [
    "# get first two element\n",
    "print(x[:2])\n",
    "print(x[0:2])"
   ]
  },
  {
   "cell_type": "code",
   "execution_count": null,
   "id": "7ee25f3f-2f59-4e98-8eb5-11c196900017",
   "metadata": {},
   "outputs": [],
   "source": [
    "print(x[3:]) # get element from 3nd to end"
   ]
  },
  {
   "cell_type": "code",
   "execution_count": null,
   "id": "091af127-d61d-4ab3-96ca-bf5fce2ee4f2",
   "metadata": {},
   "outputs": [],
   "source": [
    "print(x[-4:]) # get last four element"
   ]
  },
  {
   "cell_type": "code",
   "execution_count": null,
   "id": "23567ff4-6145-4eed-b7bd-7a9dfbf04307",
   "metadata": {},
   "outputs": [],
   "source": [
    "print(x[:-2]) # get all element except last two element"
   ]
  },
  {
   "cell_type": "code",
   "execution_count": null,
   "id": "002a3eef-27a3-4494-b04e-cf1fb8647a1a",
   "metadata": {},
   "outputs": [],
   "source": [
    "print(x[-4:-2]) # get first two element in four last element"
   ]
  },
  {
   "cell_type": "code",
   "execution_count": null,
   "id": "c7f8f496-1397-49cd-9705-2cb4925ee020",
   "metadata": {},
   "outputs": [],
   "source": [
    "first_name = \"Christopher\"\n",
    "last_name = \"Brooks\"\n",
    "\n",
    "print(first_name + '_' + last_name)\n",
    "print(\"Chris\" in first_name)"
   ]
  },
  {
   "cell_type": "code",
   "execution_count": null,
   "id": "6f372a3b-4bf9-4ab1-9df6-fc5fa61935e6",
   "metadata": {},
   "outputs": [],
   "source": [
    "full_name = \"Christopher Arthur Hansen Brooks\".split() # return a list of words, separating by ' '  \n",
    "first_name = full_name[0]\n",
    "last_name = full_name[-1]\n",
    "print(first_name)\n",
    "print(last_name)"
   ]
  },
  {
   "cell_type": "markdown",
   "id": "fe83f348-9328-499d-abef-3d50105beacc",
   "metadata": {},
   "source": [
    "- a set similar lists and tuples hold collection of items, but it labeled collection which do not have ordering\n",
    "- add new elements to the dictionary using indexing operator"
   ]
  },
  {
   "cell_type": "code",
   "execution_count": null,
   "id": "3156d28a-11ef-4d94-a12b-0e134a402268",
   "metadata": {},
   "outputs": [],
   "source": [
    "d = {\"Christopher Brooks\": \"brooksch@umich.edu\", \"Bill Gates\": \"billg@microsoft.com\"}"
   ]
  },
  {
   "cell_type": "code",
   "execution_count": null,
   "id": "a1fddfd1-7a7a-4002-a20a-3a5a412d67e7",
   "metadata": {},
   "outputs": [],
   "source": [
    "# add new element\n",
    "d[\"Kevyn Collins-Thompson\"] = None"
   ]
  },
  {
   "cell_type": "code",
   "execution_count": null,
   "id": "5e044be2-59f8-477b-b1e0-752cedb75d92",
   "metadata": {},
   "outputs": [],
   "source": [
    "print(d)"
   ]
  },
  {
   "cell_type": "code",
   "execution_count": null,
   "id": "74e392da-f831-4379-92ab-9878056bc487",
   "metadata": {},
   "outputs": [],
   "source": [
    "for name in d:\n",
    "    print(name)\n",
    "\n",
    "# or\n",
    "for name in d.keys():\n",
    "    print(name)"
   ]
  },
  {
   "cell_type": "code",
   "execution_count": null,
   "id": "7b66410e-280c-4402-810a-f786677a7b6d",
   "metadata": {},
   "outputs": [],
   "source": [
    "for key in d.values():\n",
    "    print(key)"
   ]
  },
  {
   "cell_type": "code",
   "execution_count": null,
   "id": "8420f287-3889-459e-876e-7f27c36897ca",
   "metadata": {},
   "outputs": [],
   "source": [
    "for name, email in d.items():\n",
    "    print(name, ':', email)"
   ]
  }
 ],
 "metadata": {
  "kernelspec": {
   "display_name": "Python 3 (ipykernel)",
   "language": "python",
   "name": "python3"
  },
  "language_info": {
   "codemirror_mode": {
    "name": "ipython",
    "version": 3
   },
   "file_extension": ".py",
   "mimetype": "text/x-python",
   "name": "python",
   "nbconvert_exporter": "python",
   "pygments_lexer": "ipython3",
   "version": "3.10.10"
  }
 },
 "nbformat": 4,
 "nbformat_minor": 5
}
