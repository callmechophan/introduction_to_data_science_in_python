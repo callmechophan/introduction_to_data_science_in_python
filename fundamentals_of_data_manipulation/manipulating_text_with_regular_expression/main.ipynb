{
 "cells": [
  {
   "cell_type": "code",
   "execution_count": null,
   "metadata": {},
   "outputs": [],
   "source": [
    "import re"
   ]
  },
  {
   "cell_type": "code",
   "execution_count": null,
   "metadata": {},
   "outputs": [],
   "source": [
    "text = \"This is a good day.\""
   ]
  },
  {
   "cell_type": "code",
   "execution_count": null,
   "metadata": {},
   "outputs": [],
   "source": [
    "re.search(\"good\", text) is not None"
   ]
  },
  {
   "cell_type": "code",
   "execution_count": null,
   "metadata": {},
   "outputs": [],
   "source": [
    "# the work that regex does here is called tokenizing\n",
    "# where the string is separated into substrings based on patterns\n",
    "# tokenizing is a core activity in natural language processing (NLP)\n",
    "# the findall() and split() functions will parse the string for us and return chunks\n",
    "text = \"Amy works diligently. Amy gets good grades. Our student Amy is successful.\""
   ]
  },
  {
   "cell_type": "code",
   "execution_count": null,
   "metadata": {},
   "outputs": [],
   "source": [
    "re.split(\"Amy\", text)"
   ]
  },
  {
   "cell_type": "code",
   "execution_count": null,
   "metadata": {},
   "outputs": [],
   "source": [
    "# findall() will return an array\n",
    "# if we wanted to count how many times we have talked about Amy\n",
    "re.findall(\"Amy\", text)"
   ]
  },
  {
   "cell_type": "code",
   "execution_count": null,
   "metadata": {},
   "outputs": [],
   "source": [
    "# search() looks for some pattern and returns a boolean\n",
    "# the caret \"^\" it means that the text regex processor retrieves must start with the string you specify\n",
    "# if this begins with Amy\n",
    "re.search(\"^Amy\", text) is not None"
   ]
  },
  {
   "cell_type": "markdown",
   "metadata": {},
   "source": [
    "patterns and character classes"
   ]
  },
  {
   "cell_type": "code",
   "execution_count": null,
   "metadata": {},
   "outputs": [],
   "source": [
    "grades = \"ACAAAABCBCBAA\""
   ]
  },
  {
   "cell_type": "code",
   "execution_count": null,
   "metadata": {},
   "outputs": [],
   "source": [
    "# if we want to answer the question \"how many B's were in the grade list?\"\n",
    "re.findall(\"A\", grades)"
   ]
  },
  {
   "cell_type": "code",
   "execution_count": null,
   "metadata": {},
   "outputs": [],
   "source": [
    "# if we wanted to count the number of A's or B's in the list\n",
    "# can't use \"AB\" since this is used to match\n",
    "# we should put the characters A and B inside square brackets []\n",
    "re.findall(\"[AB]\", grades)"
   ]
  },
  {
   "cell_type": "code",
   "execution_count": null,
   "metadata": {},
   "outputs": [],
   "source": [
    "# parse out all instances where this student receive an A followed by a B or a C\n",
    "re.findall(\"A[BC]\", grades) # or AB|AC"
   ]
  },
  {
   "cell_type": "code",
   "execution_count": null,
   "metadata": {},
   "outputs": [],
   "source": [
    "# if we want to parse out only the grades which were not A's\n",
    "re.findall(\"[^A]\", grades)\n",
    "# note - the caret \"^\" was previously matched to the beginning of a string as an anchor point\n",
    "# but inside of the set operator \"[]\" the caret, and the other special characters we will be talking about lose their meaning\n",
    "# this can be a bit confusing"
   ]
  },
  {
   "cell_type": "code",
   "execution_count": null,
   "metadata": {},
   "outputs": [],
   "source": [
    "re.findall(\"^[^A]\", grades)\n",
    "# it's an empty list, because the regex says that we want to match any value at the beginning of the string which is not an A\n",
    "# our string through start with an A, so there is no match found\n",
    "# and remember when you are using the set operator you are doing character based matching\n",
    "# so you are matching individual characters in an OR method"
   ]
  },
  {
   "cell_type": "markdown",
   "metadata": {},
   "source": [
    "**quantifier**"
   ]
  },
  {
   "cell_type": "code",
   "execution_count": null,
   "metadata": {},
   "outputs": [],
   "source": [
    "# how many times has this student been on a back-to-back A's streak\n",
    "# we'll use 2 as our min, but 10 as our max\n",
    "# regex quantifieer syntax does not allow you to deviate from the {m,n}\n",
    "re.findall(\"A{2,10}\", grades) # not allow A{2, 10}"
   ]
  },
  {
   "cell_type": "code",
   "execution_count": null,
   "metadata": {},
   "outputs": [],
   "source": [
    "re.findall(\"A{2}\", grades)"
   ]
  },
  {
   "cell_type": "code",
   "execution_count": null,
   "metadata": {},
   "outputs": [],
   "source": [
    "re.findall(\"A{1,10}B{1,10}C{1,10}\", grades)"
   ]
  },
  {
   "cell_type": "code",
   "execution_count": null,
   "metadata": {},
   "outputs": [],
   "source": [
    "with open(\"ferpa.txt\", \"r\") as f:\n",
    "    wiki = f.read()"
   ]
  },
  {
   "cell_type": "code",
   "execution_count": null,
   "metadata": {},
   "outputs": [],
   "source": [
    "wiki"
   ]
  },
  {
   "cell_type": "code",
   "execution_count": null,
   "metadata": {},
   "outputs": [],
   "source": [
    "re.findall(\"[A-Za-z]{1,100}\\[edit\\]\", wiki)"
   ]
  },
  {
   "cell_type": "code",
   "execution_count": null,
   "metadata": {},
   "outputs": [],
   "source": [
    "re.findall(\"\\w{1,100}\\[edit\\]\", wiki)"
   ]
  },
  {
   "cell_type": "code",
   "execution_count": null,
   "metadata": {},
   "outputs": [],
   "source": [
    "re.findall(\"\\w+\\[edit\\]\", wiki)"
   ]
  },
  {
   "cell_type": "code",
   "execution_count": null,
   "metadata": {},
   "outputs": [],
   "source": [
    "re.findall(\"[\\w ]+\\[edit\\]\", wiki)"
   ]
  },
  {
   "cell_type": "code",
   "execution_count": null,
   "metadata": {},
   "outputs": [],
   "source": [
    "for title in re.findall(\"[\\w ]+\\[edit\\]\", wiki):\n",
    "    print(re.split(\"\\[\", title)[0])"
   ]
  },
  {
   "cell_type": "markdown",
   "metadata": {},
   "source": [
    "**groups**"
   ]
  },
  {
   "cell_type": "code",
   "execution_count": null,
   "metadata": {},
   "outputs": [],
   "source": [
    "# above we talking about a regex as a single pattern which is matched\n",
    "# but you can actually match different patterns, called groups, at the same time, and refer to the group you want\n",
    "# group patterns together you use parentheses\n",
    "re.findall(\"(([\\w ]+)(\\[edit\\]))\", wiki)"
   ]
  },
  {
   "cell_type": "code",
   "execution_count": null,
   "metadata": {},
   "outputs": [],
   "source": [
    "for title in re.finditer(\"(([\\w ]+)(\\[edit\\]))\", wiki):\n",
    "    print(title.groups())"
   ]
  },
  {
   "cell_type": "code",
   "execution_count": null,
   "metadata": {},
   "outputs": [],
   "source": [
    "for title in re.finditer(\"(([\\w ]+)(\\[edit\\]))\", wiki):\n",
    "    print(title.groups()[1])"
   ]
  },
  {
   "cell_type": "code",
   "execution_count": null,
   "metadata": {},
   "outputs": [],
   "source": [
    "# good idea is labeling or naming groups\n",
    "# we use the syntax (?P<name>), where the parenthesis starts the groups\n",
    "# the ?P indicates that this is an extension to basic regex, and <name> is the dictionary key we want to use wrapped in <>\n",
    "for title in re.finditer(\"((?P<title>[\\w ]+)(?P<edit_link>\\[edit\\]))\", wiki):\n",
    "    print(title.groupdict())"
   ]
  },
  {
   "cell_type": "code",
   "execution_count": null,
   "metadata": {},
   "outputs": [],
   "source": [
    "for title in re.finditer(\"((?P<title>[\\w ]+)(?P<edit_link>\\[edit\\]))\", wiki):\n",
    "    print(title.groupdict()[\"title\"])"
   ]
  },
  {
   "cell_type": "code",
   "execution_count": null,
   "metadata": {},
   "outputs": [],
   "source": [
    "# here's the dictionary kept for the last match\n",
    "print(title.groupdict())"
   ]
  },
  {
   "cell_type": "markdown",
   "metadata": {},
   "source": [
    "**look-ahead and look-behind**"
   ]
  },
  {
   "cell_type": "code",
   "execution_count": null,
   "metadata": {},
   "outputs": [],
   "source": [
    "# in our headers we want to isolate text which comes before the [edit] rendering, but we actually don't care about the [edit] text itself\n",
    "# ?= is the syntax look-ahead\n",
    "for title in re.finditer(\"(?P<title>[\\w ]+)(?=\\[edit\\])\", wiki): #\n",
    "    print(title.group())"
   ]
  },
  {
   "cell_type": "markdown",
   "metadata": {},
   "source": [
    "**example**"
   ]
  },
  {
   "cell_type": "code",
   "execution_count": null,
   "metadata": {},
   "outputs": [],
   "source": [
    "with open(\"buddhist.txt\", \"r\", encoding=\"utf-8\") as f:\n",
    "    wiki = f.read()"
   ]
  },
  {
   "cell_type": "code",
   "execution_count": null,
   "metadata": {},
   "outputs": [],
   "source": [
    "wiki"
   ]
  },
  {
   "cell_type": "code",
   "execution_count": null,
   "metadata": {},
   "outputs": [],
   "source": [
    "university = \"(?P<university>[\\w ]+)\"\n",
    "u_c = \"(\\ (–|is)\\ located\\ in\\ )\"\n",
    "city = \"(?P<city>[\\w ]+)\"\n",
    "c_t = \"(,\\ )\"\n",
    "state = \"(?P<state>\\w+)\"\n",
    "\n",
    "# hash\n",
    "pattern = '%s' % (university + u_c + city + c_t + state)\n",
    "pattern"
   ]
  },
  {
   "cell_type": "code",
   "execution_count": null,
   "metadata": {},
   "outputs": [],
   "source": [
    "arr = []\n",
    "for i in re.finditer(pattern, wiki, re.VERBOSE):\n",
    "    arr.append(i.groupdict())\n",
    "    print(i.groupdict())"
   ]
  },
  {
   "cell_type": "markdown",
   "metadata": {},
   "source": [
    "**example**"
   ]
  },
  {
   "cell_type": "code",
   "execution_count": null,
   "metadata": {},
   "outputs": [],
   "source": [
    "with open(\"nytimeshealth.txt\", \"r\", encoding=\"utf-8\") as f:\n",
    "    health = f.read()"
   ]
  },
  {
   "cell_type": "code",
   "execution_count": null,
   "metadata": {},
   "outputs": [],
   "source": [
    "health"
   ]
  },
  {
   "cell_type": "code",
   "execution_count": null,
   "metadata": {},
   "outputs": [],
   "source": [
    "pattern = \"#[\\w]+(?=\\ )\""
   ]
  },
  {
   "cell_type": "code",
   "execution_count": null,
   "metadata": {},
   "outputs": [],
   "source": [
    "re.findall(pattern, health)"
   ]
  }
 ],
 "metadata": {
  "kernelspec": {
   "display_name": "Python 3",
   "language": "python",
   "name": "python3"
  },
  "language_info": {
   "codemirror_mode": {
    "name": "ipython",
    "version": 3
   },
   "file_extension": ".py",
   "mimetype": "text/x-python",
   "name": "python",
   "nbconvert_exporter": "python",
   "pygments_lexer": "ipython3",
   "version": "3.10.10"
  }
 },
 "nbformat": 4,
 "nbformat_minor": 2
}
